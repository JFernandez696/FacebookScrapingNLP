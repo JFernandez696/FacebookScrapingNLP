{
  "nbformat": 4,
  "nbformat_minor": 0,
  "metadata": {
    "colab": {
      "name": "Cesar_Mamani_Julio_Fernandez.ipynb",
      "provenance": []
    },
    "kernelspec": {
      "name": "python3",
      "display_name": "Python 3"
    },
    "language_info": {
      "name": "python"
    }
  },
  "cells": [
    {
      "cell_type": "markdown",
      "source": [
        "1. Recuperar Texto de una Novela en Inglés"
      ],
      "metadata": {
        "id": "bdgD6521-O2s"
      }
    },
    {
      "cell_type": "code",
      "source": [
        "!pip install  beautifulsoup4"
      ],
      "metadata": {
        "colab": {
          "base_uri": "https://localhost:8080/"
        },
        "id": "GnTwclzhAPFE",
        "outputId": "e9c7ee76-fdde-457c-cf48-2cdcf5e945ba"
      },
      "execution_count": 7,
      "outputs": [
        {
          "output_type": "stream",
          "name": "stdout",
          "text": [
            "Requirement already satisfied: beautifulsoup4 in /usr/local/lib/python3.7/dist-packages (4.6.3)\n"
          ]
        }
      ]
    },
    {
      "cell_type": "code",
      "source": [
        "!pip install beautifulsoup4"
      ],
      "metadata": {
        "colab": {
          "base_uri": "https://localhost:8080/"
        },
        "id": "F0UsYcI6AKF0",
        "outputId": "dca89662-c326-4442-ac4c-86e9061ad7ce"
      },
      "execution_count": 2,
      "outputs": [
        {
          "output_type": "stream",
          "name": "stdout",
          "text": [
            "Requirement already satisfied: beautifulsoup4 in /usr/local/lib/python3.7/dist-packages (4.6.3)\n"
          ]
        }
      ]
    },
    {
      "cell_type": "code",
      "execution_count": 107,
      "metadata": {
        "colab": {
          "base_uri": "https://localhost:8080/"
        },
        "id": "ouB-g4WY7abS",
        "outputId": "454a0625-dfd6-42d7-ca18-66dea539ffaa"
      },
      "outputs": [
        {
          "output_type": "stream",
          "name": "stdout",
          "text": [
            "[nltk_data] Downloading package punkt to /root/nltk_data...\n",
            "[nltk_data]   Package punkt is already up-to-date!\n",
            "[nltk_data] Downloading package stopwords to /root/nltk_data...\n",
            "[nltk_data]   Package stopwords is already up-to-date!\n"
          ]
        }
      ],
      "source": [
        "import requests\n",
        "import string\n",
        "import nltk\n",
        "\n",
        "nltk.download('punkt')\n",
        "nltk.download('stopwords')\n",
        "\n",
        "from nltk.corpus import stopwords\n"
      ]
    },
    {
      "cell_type": "code",
      "source": [
        "url = \"https://www.grimmstories.com/en/grimm_fairy-tales/rapunzel\"\n",
        "html = requests.get(url).text"
      ],
      "metadata": {
        "id": "qobPYe1oBAVs"
      },
      "execution_count": 20,
      "outputs": []
    },
    {
      "cell_type": "code",
      "source": [
        "print (html)"
      ],
      "metadata": {
        "id": "h9V5HPMWBhsS"
      },
      "execution_count": null,
      "outputs": []
    },
    {
      "cell_type": "code",
      "source": [
        "from bs4 import BeautifulSoup\n",
        "\n",
        "soup = BeautifulSoup(html,'html.parser')"
      ],
      "metadata": {
        "id": "sH7DtGmfDhND"
      },
      "execution_count": 22,
      "outputs": []
    },
    {
      "cell_type": "markdown",
      "source": [
        "Recuperamos la estructura HTML y mediante FindAll extraemos el div donde esta el texto"
      ],
      "metadata": {
        "id": "-UOLvMZOV6xx"
      }
    },
    {
      "cell_type": "code",
      "source": [
        "mydivs = soup.findAll(\"div\", {\"class\": \"text\"})"
      ],
      "metadata": {
        "id": "qE5x7n01Doj9"
      },
      "execution_count": 23,
      "outputs": []
    },
    {
      "cell_type": "code",
      "source": [
        "print(mydivs[0])"
      ],
      "metadata": {
        "id": "swcejU6BEOA6"
      },
      "execution_count": null,
      "outputs": []
    },
    {
      "cell_type": "code",
      "source": [
        "novela = mydivs[0]\n",
        "print(novela)"
      ],
      "metadata": {
        "colab": {
          "base_uri": "https://localhost:8080/"
        },
        "id": "hp1c7t2-EZcC",
        "outputId": "039f53b1-4ed0-4e11-d3a7-1c36795a27d6"
      },
      "execution_count": 146,
      "outputs": [
        {
          "output_type": "stream",
          "name": "stdout",
          "text": [
            "<div class=\"text\" itemprop=\"text\">There once lived a man and his wife, who had long wished for a child, but in vain. Now there was at the back of their house a little window which overlooked a beautiful garden full of the finest vegetables and flowers; but there was a high wall all round it, and no one ventured into it, for it belonged to a witch of great might, and of whom all the world was afraid.<br/>\n",
            "<br/>\n",
            "One day that the wife was standing at the window, and looking into the garden, she saw a bed filled with the finest rampion; and it looked so fresh and green that she began to wish for some; and at length she longed for it greatly. This went on for days, and as she knew she could not get the rampion, she pined away, and grew pale and miserable. Then the man was uneasy, and asked, \"What is the matter, dear wife?\"<br/>\n",
            "<br/>\n",
            "\"Oh,\" answered she, \"I shall die unless I can have some of that rampion to eat that grows in the garden at the back of our house.\" The man, who loved her very much, thought to himself, \"Rather than lose my wife I will get some rampion, cost what it will.\" So in the twilight he climbed over the wall into the witch's garden, plucked hastily a handful of rampion and brought it to his wife. She made a salad of it at once, and ate of it to her heart's content. But she liked it so much, and it tasted so good, that the next day she longed for it thrice as much as she had done before; if she was to have any rest the man must climb over the wall once more. So he went in the twilight again; and as he was climbing back, he saw, all at once, the witch standing before him, and was terribly frightened, as she cried, with angry eyes, \"How dare you climb over into my garden like a thief, and steal my rampion! it shall be the worse for you!\"<br/>\n",
            "<br/>\n",
            "\"Oh,\" answered he, \"be merciful rather than just, I have only done it through necessity; for my wife saw your rampion out of the window, and became possessed with so great a longing that she would have died if she could not have had some to eat.\" Then the witch said,<br/>\n",
            "\"If it is all as you say you may have as much rampion as you like, on one condition - the child that will come into the world must be given to me. It shall go well with the child, and I will care for it like a mother.\"<br/>\n",
            "<br/>\n",
            "In his distress of mind the man promised everything; and when the time came when the child was born the witch appeared, and, giving the child the name of Rapunzel (which is the same as rampion), she took it away with her.<br/>\n",
            "<br/>\n",
            "Rapunzel was the most beautiful child in the world. When she was twelve years old the witch shut her up in a tower in the midst of a wood, and it had neither steps nor door, only a small window above. When the witch wished to be let in, she would stand below and would cry,<br/>\n",
            "<br/>\n",
            "\"Rapunzel, Rapunzel!<br/>\n",
            "Let down your hair!\"<br/>\n",
            "<br/>\n",
            "Rapunzel had beautiful long hair that shone like gold. When she. heard the voice of the witch she would undo the fastening of the upper window, unbind the plaits of her hair, and let it down twenty ells below, and the witch would climb up by it.<br/>\n",
            "<br/>\n",
            "After they had lived thus a few years it happened that as the King's son was riding through the wood, he came to the tower; and as he drew near he heard a voice singing so sweetly that he stood still and listened. It was Rapunzel in her loneliness trying to pass away the time with sweet songs. The King's son wished to go in to her, and sought to find a door in the tower, but there was none. So he rode home, but the song had entered into his heart, and every day he went into the wood and listened to it. Once, as he was standing there under a tree, he saw the witch come up, and listened while she called out,<br/>\n",
            "<br/>\n",
            "\"O Rapunzel, Rapunzel!<br/>\n",
            "Let down your hair.\"<br/>\n",
            "<br/>\n",
            "Then he saw how Rapunzel let down her long tresses, and how the witch climbed up by it and went in to her, and he said to himself, \"Since that is the ladder I will climb it, and seek my fortune.\" And the next day, as soon as it began to grow dusk, he went to the tower and cried,<br/>\n",
            "<br/>\n",
            "\"O Rapunzel, Rapunzel!<br/>\n",
            "Let down your hair.\"<br/>\n",
            "<br/>\n",
            "And she let down her hair, and the King's son climbed up by it. Rapunzel was greatly terrified when she saw that a man had come in to her, for she had never seen one before; but the King's son began speaking so kindly to her, and told how her singing had entered into his heart, so that he could have no peace until he had seen her herself. Then Rapunzel forgot her terror, and when he asked her to take him for her husband, and she saw that he was young and beautiful, she thought to herself, \"I certainly like him much better than old mother Gothel,\" and she put her hand into his hand.<br/>\n",
            "<br/>\n",
            "She said: \"I would willingly go with thee, but I do not know how I shall get out. When thou comest, bring each time a silken rope, and I will make a ladder, and when it is quite ready I will get down by it out of the tower, and thou shalt take me away on thy horse.\" They agreed that he should come to her every evening, as the old woman came in the day-time.<br/>\n",
            "<br/>\n",
            "So the witch knew nothing of all this until once Rapunzel said to her unwittingly, \"Mother Gothel, how is it that you climb up here so slowly, and the King's son is with me in a moment?\"<br/>\n",
            "<br/>\n",
            "\"O wicked child,\" cried the witch, \"what is this I hear! I thought I had hidden thee from all the world, and thou hast betrayed me!\" In her anger she seized Rapunzel by her beautiful hair, struck her several times with her left hand, and then grasping a pair of shears in her right - snip, snap - the beautiful locks lay on the ground. And she was so hard-hearted that she took Rapunzel and put her in a waste and desert place, where she lived in great woe and misery.<br/>\n",
            "The same day on which she took Rapunzel away she went back to the tower in the evening and made fast the severed locks of hair to the window-hasp, and the King's son came and cried,<br/>\n",
            "<br/>\n",
            "\"Rapunzel, Rapunzel!<br/>\n",
            "Let down your hair.\"<br/>\n",
            "<br/>\n",
            "Then she let the hair down, and the King's son climbed up, but instead of his dearest Rapunzel he found the witch looking at him with wicked glittering eyes.<br/>\n",
            "<br/>\n",
            "\"Aha!\" cried she, mocking him, \"you came for your darling, but the sweet bird sits no longer in the nest, and sings no more; the cat has got her, and will scratch out your eyes as well! Rapunzel is lost to you; you will see her no more.\" The King's son was beside himself with grief, and in his agony he sprang from the tower: he escaped with life, but the thorns on which he fell put out his eyes. Then he wandered blind through the wood, eating nothing but roots and berries, and doing nothing but lament and weep for the loss of his dearest wife.<br/>\n",
            "<br/>\n",
            "So he wandered several years in misery until at last he came to the desert place where Rapunzel lived with her twin-children that she had borne, a boy and a girl. At first he heard a voice that he thought he knew, and when he reached the place from which it seemed to come Rapunzel knew him, and fell on his neck and wept. And when her tears touched his eyes they became clear again, and he could see with them as well as ever. Then he took her to his kingdom, where he was received with great joy, and there they lived long and happily.</div>\n"
          ]
        }
      ]
    },
    {
      "cell_type": "code",
      "source": [
        "def retirar_html(html):\n",
        "    soup = BeautifulSoup(html, \"html.parser\")  \n",
        "    for data in soup(['style', 'script']):\n",
        "        data.decompose()\n",
        "    \n",
        "    limpieza=' '.join(soup.stripped_strings)\n",
        "    limpieza=limpieza.replace('\\'','')\n",
        "    return limpieza"
      ],
      "metadata": {
        "id": "zvmaECIzFYWT"
      },
      "execution_count": 120,
      "outputs": []
    },
    {
      "cell_type": "code",
      "source": [
        "type(novela)"
      ],
      "metadata": {
        "colab": {
          "base_uri": "https://localhost:8080/"
        },
        "id": "Y-MRWKpgFbFa",
        "outputId": "cce7f209-b685-41d4-8763-29a15a0d23e4"
      },
      "execution_count": 62,
      "outputs": [
        {
          "output_type": "execute_result",
          "data": {
            "text/plain": [
              "bs4.element.Tag"
            ]
          },
          "metadata": {},
          "execution_count": 62
        }
      ]
    },
    {
      "cell_type": "code",
      "source": [
        "paragraphs = []\n",
        "for x in novela:\n",
        "    if len(retirar_html(str(x))) >0:\n",
        "      paragraphs.append(retirar_html(str(x)))"
      ],
      "metadata": {
        "id": "UBRVfS_CGNGK"
      },
      "execution_count": 72,
      "outputs": []
    },
    {
      "cell_type": "code",
      "source": [
        "type(paragraphs)"
      ],
      "metadata": {
        "colab": {
          "base_uri": "https://localhost:8080/"
        },
        "id": "CfgOCpLTK4qb",
        "outputId": "8463b44e-9494-4373-deda-8bc6e777a47b"
      },
      "execution_count": 74,
      "outputs": [
        {
          "output_type": "execute_result",
          "data": {
            "text/plain": [
              "list"
            ]
          },
          "metadata": {},
          "execution_count": 74
        }
      ]
    },
    {
      "cell_type": "code",
      "source": [
        "novelaconcatenada=\"\""
      ],
      "metadata": {
        "id": "udGQIAJ1LQaQ"
      },
      "execution_count": 78,
      "outputs": []
    },
    {
      "cell_type": "code",
      "source": [
        "for p in range(len(paragraphs)):\n",
        "  novelaconcatenada = novelaconcatenada + paragraphs[p]"
      ],
      "metadata": {
        "id": "Ec6zF9O5KYmw"
      },
      "execution_count": 80,
      "outputs": []
    },
    {
      "cell_type": "code",
      "source": [
        "with open('novelaconcatenada.txt', 'w') as f:\n",
        "    for line in paragraphs:\n",
        "        f.write(line)\n",
        "        f.write('\\n')"
      ],
      "metadata": {
        "id": "jiYHyssvRfHZ"
      },
      "execution_count": 122,
      "outputs": []
    },
    {
      "cell_type": "code",
      "source": [
        "print(novelaconcatenada)"
      ],
      "metadata": {
        "colab": {
          "base_uri": "https://localhost:8080/"
        },
        "id": "pEzqr1jKKuRq",
        "outputId": "e8430c07-5e7d-429a-a723-f9b1c52c1d82"
      },
      "execution_count": 144,
      "outputs": [
        {
          "output_type": "stream",
          "name": "stdout",
          "text": [
            "There once lived a man and his wife, who had long wished for a child, but in vain. Now there was at the back of their house a little window which overlooked a beautiful garden full of the finest vegetables and flowers; but there was a high wall all round it, and no one ventured into it, for it belonged to a witch of great might, and of whom all the world was afraid.One day that the wife was standing at the window, and looking into the garden, she saw a bed filled with the finest rampion; and it looked so fresh and green that she began to wish for some; and at length she longed for it greatly. This went on for days, and as she knew she could not get the rampion, she pined away, and grew pale and miserable. Then the man was uneasy, and asked, \"What is the matter, dear wife?\"\"Oh,\" answered she, \"I shall die unless I can have some of that rampion to eat that grows in the garden at the back of our house.\" The man, who loved her very much, thought to himself, \"Rather than lose my wife I will get some rampion, cost what it will.\" So in the twilight he climbed over the wall into the witch's garden, plucked hastily a handful of rampion and brought it to his wife. She made a salad of it at once, and ate of it to her heart's content. But she liked it so much, and it tasted so good, that the next day she longed for it thrice as much as she had done before; if she was to have any rest the man must climb over the wall once more. So he went in the twilight again; and as he was climbing back, he saw, all at once, the witch standing before him, and was terribly frightened, as she cried, with angry eyes, \"How dare you climb over into my garden like a thief, and steal my rampion! it shall be the worse for you!\"\"Oh,\" answered he, \"be merciful rather than just, I have only done it through necessity; for my wife saw your rampion out of the window, and became possessed with so great a longing that she would have died if she could not have had some to eat.\" Then the witch said,\"If it is all as you say you may have as much rampion as you like, on one condition - the child that will come into the world must be given to me. It shall go well with the child, and I will care for it like a mother.\"In his distress of mind the man promised everything; and when the time came when the child was born the witch appeared, and, giving the child the name of Rapunzel (which is the same as rampion), she took it away with her.Rapunzel was the most beautiful child in the world. When she was twelve years old the witch shut her up in a tower in the midst of a wood, and it had neither steps nor door, only a small window above. When the witch wished to be let in, she would stand below and would cry,\"Rapunzel, Rapunzel!Let down your hair!\"Rapunzel had beautiful long hair that shone like gold. When she. heard the voice of the witch she would undo the fastening of the upper window, unbind the plaits of her hair, and let it down twenty ells below, and the witch would climb up by it.After they had lived thus a few years it happened that as the King's son was riding through the wood, he came to the tower; and as he drew near he heard a voice singing so sweetly that he stood still and listened. It was Rapunzel in her loneliness trying to pass away the time with sweet songs. The King's son wished to go in to her, and sought to find a door in the tower, but there was none. So he rode home, but the song had entered into his heart, and every day he went into the wood and listened to it. Once, as he was standing there under a tree, he saw the witch come up, and listened while she called out,\"O Rapunzel, Rapunzel!Let down your hair.\"Then he saw how Rapunzel let down her long tresses, and how the witch climbed up by it and went in to her, and he said to himself, \"Since that is the ladder I will climb it, and seek my fortune.\" And the next day, as soon as it began to grow dusk, he went to the tower and cried,\"O Rapunzel, Rapunzel!Let down your hair.\"And she let down her hair, and the King's son climbed up by it. Rapunzel was greatly terrified when she saw that a man had come in to her, for she had never seen one before; but the King's son began speaking so kindly to her, and told how her singing had entered into his heart, so that he could have no peace until he had seen her herself. Then Rapunzel forgot her terror, and when he asked her to take him for her husband, and she saw that he was young and beautiful, she thought to herself, \"I certainly like him much better than old mother Gothel,\" and she put her hand into his hand.She said: \"I would willingly go with thee, but I do not know how I shall get out. When thou comest, bring each time a silken rope, and I will make a ladder, and when it is quite ready I will get down by it out of the tower, and thou shalt take me away on thy horse.\" They agreed that he should come to her every evening, as the old woman came in the day-time.So the witch knew nothing of all this until once Rapunzel said to her unwittingly, \"Mother Gothel, how is it that you climb up here so slowly, and the King's son is with me in a moment?\"\"O wicked child,\" cried the witch, \"what is this I hear! I thought I had hidden thee from all the world, and thou hast betrayed me!\" In her anger she seized Rapunzel by her beautiful hair, struck her several times with her left hand, and then grasping a pair of shears in her right - snip, snap - the beautiful locks lay on the ground. And she was so hard-hearted that she took Rapunzel and put her in a waste and desert place, where she lived in great woe and misery.The same day on which she took Rapunzel away she went back to the tower in the evening and made fast the severed locks of hair to the window-hasp, and the King's son came and cried,\"Rapunzel, Rapunzel!Let down your hair.\"Then she let the hair down, and the King's son climbed up, but instead of his dearest Rapunzel he found the witch looking at him with wicked glittering eyes.\"Aha!\" cried she, mocking him, \"you came for your darling, but the sweet bird sits no longer in the nest, and sings no more; the cat has got her, and will scratch out your eyes as well! Rapunzel is lost to you; you will see her no more.\" The King's son was beside himself with grief, and in his agony he sprang from the tower: he escaped with life, but the thorns on which he fell put out his eyes. Then he wandered blind through the wood, eating nothing but roots and berries, and doing nothing but lament and weep for the loss of his dearest wife.So he wandered several years in misery until at last he came to the desert place where Rapunzel lived with her twin-children that she had borne, a boy and a girl. At first he heard a voice that he thought he knew, and when he reached the place from which it seemed to come Rapunzel knew him, and fell on his neck and wept. And when her tears touched his eyes they became clear again, and he could see with them as well as ever. Then he took her to his kingdom, where he was received with great joy, and there they lived long and happily.There once lived a man and his wife, who had long wished for a child, but in vain. Now there was at the back of their house a little window which overlooked a beautiful garden full of the finest vegetables and flowers; but there was a high wall all round it, and no one ventured into it, for it belonged to a witch of great might, and of whom all the world was afraid.One day that the wife was standing at the window, and looking into the garden, she saw a bed filled with the finest rampion; and it looked so fresh and green that she began to wish for some; and at length she longed for it greatly. This went on for days, and as she knew she could not get the rampion, she pined away, and grew pale and miserable. Then the man was uneasy, and asked, \"What is the matter, dear wife?\"\"Oh,\" answered she, \"I shall die unless I can have some of that rampion to eat that grows in the garden at the back of our house.\" The man, who loved her very much, thought to himself, \"Rather than lose my wife I will get some rampion, cost what it will.\" So in the twilight he climbed over the wall into the witch's garden, plucked hastily a handful of rampion and brought it to his wife. She made a salad of it at once, and ate of it to her heart's content. But she liked it so much, and it tasted so good, that the next day she longed for it thrice as much as she had done before; if she was to have any rest the man must climb over the wall once more. So he went in the twilight again; and as he was climbing back, he saw, all at once, the witch standing before him, and was terribly frightened, as she cried, with angry eyes, \"How dare you climb over into my garden like a thief, and steal my rampion! it shall be the worse for you!\"\"Oh,\" answered he, \"be merciful rather than just, I have only done it through necessity; for my wife saw your rampion out of the window, and became possessed with so great a longing that she would have died if she could not have had some to eat.\" Then the witch said,\"If it is all as you say you may have as much rampion as you like, on one condition - the child that will come into the world must be given to me. It shall go well with the child, and I will care for it like a mother.\"In his distress of mind the man promised everything; and when the time came when the child was born the witch appeared, and, giving the child the name of Rapunzel (which is the same as rampion), she took it away with her.Rapunzel was the most beautiful child in the world. When she was twelve years old the witch shut her up in a tower in the midst of a wood, and it had neither steps nor door, only a small window above. When the witch wished to be let in, she would stand below and would cry,\"Rapunzel, Rapunzel!Let down your hair!\"Rapunzel had beautiful long hair that shone like gold. When she. heard the voice of the witch she would undo the fastening of the upper window, unbind the plaits of her hair, and let it down twenty ells below, and the witch would climb up by it.After they had lived thus a few years it happened that as the King's son was riding through the wood, he came to the tower; and as he drew near he heard a voice singing so sweetly that he stood still and listened. It was Rapunzel in her loneliness trying to pass away the time with sweet songs. The King's son wished to go in to her, and sought to find a door in the tower, but there was none. So he rode home, but the song had entered into his heart, and every day he went into the wood and listened to it. Once, as he was standing there under a tree, he saw the witch come up, and listened while she called out,\"O Rapunzel, Rapunzel!Let down your hair.\"Then he saw how Rapunzel let down her long tresses, and how the witch climbed up by it and went in to her, and he said to himself, \"Since that is the ladder I will climb it, and seek my fortune.\" And the next day, as soon as it began to grow dusk, he went to the tower and cried,\"O Rapunzel, Rapunzel!Let down your hair.\"And she let down her hair, and the King's son climbed up by it. Rapunzel was greatly terrified when she saw that a man had come in to her, for she had never seen one before; but the King's son began speaking so kindly to her, and told how her singing had entered into his heart, so that he could have no peace until he had seen her herself. Then Rapunzel forgot her terror, and when he asked her to take him for her husband, and she saw that he was young and beautiful, she thought to herself, \"I certainly like him much better than old mother Gothel,\" and she put her hand into his hand.She said: \"I would willingly go with thee, but I do not know how I shall get out. When thou comest, bring each time a silken rope, and I will make a ladder, and when it is quite ready I will get down by it out of the tower, and thou shalt take me away on thy horse.\" They agreed that he should come to her every evening, as the old woman came in the day-time.So the witch knew nothing of all this until once Rapunzel said to her unwittingly, \"Mother Gothel, how is it that you climb up here so slowly, and the King's son is with me in a moment?\"\"O wicked child,\" cried the witch, \"what is this I hear! I thought I had hidden thee from all the world, and thou hast betrayed me!\" In her anger she seized Rapunzel by her beautiful hair, struck her several times with her left hand, and then grasping a pair of shears in her right - snip, snap - the beautiful locks lay on the ground. And she was so hard-hearted that she took Rapunzel and put her in a waste and desert place, where she lived in great woe and misery.The same day on which she took Rapunzel away she went back to the tower in the evening and made fast the severed locks of hair to the window-hasp, and the King's son came and cried,\"Rapunzel, Rapunzel!Let down your hair.\"Then she let the hair down, and the King's son climbed up, but instead of his dearest Rapunzel he found the witch looking at him with wicked glittering eyes.\"Aha!\" cried she, mocking him, \"you came for your darling, but the sweet bird sits no longer in the nest, and sings no more; the cat has got her, and will scratch out your eyes as well! Rapunzel is lost to you; you will see her no more.\" The King's son was beside himself with grief, and in his agony he sprang from the tower: he escaped with life, but the thorns on which he fell put out his eyes. Then he wandered blind through the wood, eating nothing but roots and berries, and doing nothing but lament and weep for the loss of his dearest wife.So he wandered several years in misery until at last he came to the desert place where Rapunzel lived with her twin-children that she had borne, a boy and a girl. At first he heard a voice that he thought he knew, and when he reached the place from which it seemed to come Rapunzel knew him, and fell on his neck and wept. And when her tears touched his eyes they became clear again, and he could see with them as well as ever. Then he took her to his kingdom, where he was received with great joy, and there they lived long and happily.\n"
          ]
        }
      ]
    },
    {
      "cell_type": "code",
      "source": [
        "print(paragraphs[0])"
      ],
      "metadata": {
        "colab": {
          "base_uri": "https://localhost:8080/"
        },
        "id": "DbUJUVx3GQyC",
        "outputId": "a1f945c3-4c34-4996-a651-3ca2fbe1ece0"
      },
      "execution_count": 145,
      "outputs": [
        {
          "output_type": "stream",
          "name": "stdout",
          "text": [
            "There once lived a man and his wife, who had long wished for a child, but in vain. Now there was at the back of their house a little window which overlooked a beautiful garden full of the finest vegetables and flowers; but there was a high wall all round it, and no one ventured into it, for it belonged to a witch of great might, and of whom all the world was afraid.\n"
          ]
        }
      ]
    },
    {
      "cell_type": "markdown",
      "source": [
        "1. Análisis del Texto:"
      ],
      "metadata": {
        "id": "UtalMK7sJ7H5"
      }
    },
    {
      "cell_type": "code",
      "source": [
        "print('Nro Párrafos: ' + str(len(paragraphs)))\n",
        "sentences= nltk.sent_tokenize(novelaconcatenada)\n",
        "print ('Nro. Sentencias:' + str(len(sentences)))"
      ],
      "metadata": {
        "id": "IdfEsDKIJ-ii"
      },
      "execution_count": null,
      "outputs": []
    },
    {
      "cell_type": "code",
      "source": [
        "sentences[:15]"
      ],
      "metadata": {
        "id": "ZEA15golOAk_"
      },
      "execution_count": null,
      "outputs": []
    },
    {
      "cell_type": "code",
      "source": [
        "tokens = nltk.word_tokenize(novelaconcatenada)\n",
        "freq = nltk.FreqDist(tokens)\n",
        "freq.most_common(10)"
      ],
      "metadata": {
        "id": "L_NL6HfvOKuH"
      },
      "execution_count": null,
      "outputs": []
    },
    {
      "cell_type": "markdown",
      "source": [
        "2. Dígitos y signos de puntuación"
      ],
      "metadata": {
        "id": "ja1hUU9_ORzd"
      }
    },
    {
      "cell_type": "code",
      "source": [
        "type(string.punctuation)\n",
        "puct = string.punctuation + '¿¡'"
      ],
      "metadata": {
        "id": "bpDuhF07OocI"
      },
      "execution_count": 100,
      "outputs": []
    },
    {
      "cell_type": "code",
      "source": [
        "tokens2 = []\n",
        "\n",
        "for token in tokens:\n",
        "  if token.isalpha(): # token este formado solo por letras del alfabeto\n",
        "    tokens2.append(token)"
      ],
      "metadata": {
        "id": "MU6dmqRvOWkq"
      },
      "execution_count": 101,
      "outputs": []
    },
    {
      "cell_type": "code",
      "source": [
        "tokens3 = []\n",
        "\n",
        "for token in tokens:\n",
        "  if token in puct: # token no sea un signo de puntuación\n",
        "    continue\n",
        "  tokens3.append(token)"
      ],
      "metadata": {
        "id": "k-AU6pWUOlmv"
      },
      "execution_count": 102,
      "outputs": []
    },
    {
      "cell_type": "code",
      "source": [
        "nltk.FreqDist(nltk.word_tokenize(novelaconcatenada)).most_common(10)"
      ],
      "metadata": {
        "id": "aXlB_xYuOyFl"
      },
      "execution_count": null,
      "outputs": []
    },
    {
      "cell_type": "code",
      "source": [
        "nltk.FreqDist(tokens2).most_common(40)"
      ],
      "metadata": {
        "id": "uEipHLbrOyxu"
      },
      "execution_count": null,
      "outputs": []
    },
    {
      "cell_type": "code",
      "source": [
        "nltk.FreqDist(tokens3).most_common(40)"
      ],
      "metadata": {
        "id": "HTR-u58kO28u"
      },
      "execution_count": null,
      "outputs": []
    },
    {
      "cell_type": "markdown",
      "source": [
        "3. Stopwords"
      ],
      "metadata": {
        "id": "Nn27bE1WQLju"
      }
    },
    {
      "cell_type": "code",
      "source": [
        "stopwords.words('english')\n"
      ],
      "metadata": {
        "id": "7xj84LanQNVO"
      },
      "execution_count": null,
      "outputs": []
    },
    {
      "cell_type": "code",
      "source": [
        "stopwords.words('spanish')"
      ],
      "metadata": {
        "id": "QM_neUcRQb12"
      },
      "execution_count": null,
      "outputs": []
    },
    {
      "cell_type": "code",
      "source": [
        "tokens4 = []\n",
        "for token in tokens2:\n",
        "  token = token.lower()\n",
        "  if token not in stopwords.words('english'):\n",
        "    tokens4.append(token)"
      ],
      "metadata": {
        "id": "cBDe3pYkQi32"
      },
      "execution_count": 113,
      "outputs": []
    },
    {
      "cell_type": "code",
      "source": [
        "nltk.FreqDist(tokens2).most_common(10)"
      ],
      "metadata": {
        "colab": {
          "base_uri": "https://localhost:8080/"
        },
        "id": "8IWtSZuSQlfe",
        "outputId": "9a0db05b-fe64-4245-d378-c10b150a855a"
      },
      "execution_count": 111,
      "outputs": [
        {
          "output_type": "execute_result",
          "data": {
            "text/plain": [
              "[('the', 168),\n",
              " ('and', 138),\n",
              " ('she', 70),\n",
              " ('he', 70),\n",
              " ('to', 64),\n",
              " ('her', 60),\n",
              " ('it', 58),\n",
              " ('a', 56),\n",
              " ('in', 44),\n",
              " ('of', 44)]"
            ]
          },
          "metadata": {},
          "execution_count": 111
        }
      ]
    },
    {
      "cell_type": "code",
      "source": [
        "nltk.FreqDist(tokens4).most_common(10)"
      ],
      "metadata": {
        "colab": {
          "base_uri": "https://localhost:8080/"
        },
        "id": "0CfotybFQm4m",
        "outputId": "02a01dbd-e057-4db1-a1aa-75b4a274e87b"
      },
      "execution_count": 114,
      "outputs": [
        {
          "output_type": "execute_result",
          "data": {
            "text/plain": [
              "[('rapunzel', 44),\n",
              " ('witch', 28),\n",
              " ('hair', 20),\n",
              " ('rampion', 18),\n",
              " ('let', 18),\n",
              " ('king', 16),\n",
              " ('son', 16),\n",
              " ('child', 14),\n",
              " ('saw', 14),\n",
              " ('tower', 14)]"
            ]
          },
          "metadata": {},
          "execution_count": 114
        }
      ]
    },
    {
      "cell_type": "markdown",
      "source": [
        "4.Stemming and Lemmatization"
      ],
      "metadata": {
        "id": "_tASvCzCQ4qe"
      }
    },
    {
      "cell_type": "code",
      "source": [
        "file  = open(\"novelaconcatenada.txt\", \"r\")\n",
        "book = file.read()"
      ],
      "metadata": {
        "id": "LN8HyNvMQ6Mg"
      },
      "execution_count": 125,
      "outputs": []
    },
    {
      "cell_type": "code",
      "source": [
        "book"
      ],
      "metadata": {
        "colab": {
          "base_uri": "https://localhost:8080/",
          "height": 145
        },
        "id": "aJVPvqZDSDO_",
        "outputId": "cfae6ca6-1649-4dbc-cec8-1acfcef64bf6"
      },
      "execution_count": 126,
      "outputs": [
        {
          "output_type": "execute_result",
          "data": {
            "text/plain": [
              "'There once lived a man and his wife, who had long wished for a child, but in vain. Now there was at the back of their house a little window which overlooked a beautiful garden full of the finest vegetables and flowers; but there was a high wall all round it, and no one ventured into it, for it belonged to a witch of great might, and of whom all the world was afraid.\\nOne day that the wife was standing at the window, and looking into the garden, she saw a bed filled with the finest rampion; and it looked so fresh and green that she began to wish for some; and at length she longed for it greatly. This went on for days, and as she knew she could not get the rampion, she pined away, and grew pale and miserable. Then the man was uneasy, and asked, \"What is the matter, dear wife?\"\\n\"Oh,\" answered she, \"I shall die unless I can have some of that rampion to eat that grows in the garden at the back of our house.\" The man, who loved her very much, thought to himself, \"Rather than lose my wife I will get some rampion, cost what it will.\" So in the twilight he climbed over the wall into the witch\\'s garden, plucked hastily a handful of rampion and brought it to his wife. She made a salad of it at once, and ate of it to her heart\\'s content. But she liked it so much, and it tasted so good, that the next day she longed for it thrice as much as she had done before; if she was to have any rest the man must climb over the wall once more. So he went in the twilight again; and as he was climbing back, he saw, all at once, the witch standing before him, and was terribly frightened, as she cried, with angry eyes, \"How dare you climb over into my garden like a thief, and steal my rampion! it shall be the worse for you!\"\\n\"Oh,\" answered he, \"be merciful rather than just, I have only done it through necessity; for my wife saw your rampion out of the window, and became possessed with so great a longing that she would have died if she could not have had some to eat.\" Then the witch said,\\n\"If it is all as you say you may have as much rampion as you like, on one condition - the child that will come into the world must be given to me. It shall go well with the child, and I will care for it like a mother.\"\\nIn his distress of mind the man promised everything; and when the time came when the child was born the witch appeared, and, giving the child the name of Rapunzel (which is the same as rampion), she took it away with her.\\nRapunzel was the most beautiful child in the world. When she was twelve years old the witch shut her up in a tower in the midst of a wood, and it had neither steps nor door, only a small window above. When the witch wished to be let in, she would stand below and would cry,\\n\"Rapunzel, Rapunzel!\\nLet down your hair!\"\\nRapunzel had beautiful long hair that shone like gold. When she. heard the voice of the witch she would undo the fastening of the upper window, unbind the plaits of her hair, and let it down twenty ells below, and the witch would climb up by it.\\nAfter they had lived thus a few years it happened that as the King\\'s son was riding through the wood, he came to the tower; and as he drew near he heard a voice singing so sweetly that he stood still and listened. It was Rapunzel in her loneliness trying to pass away the time with sweet songs. The King\\'s son wished to go in to her, and sought to find a door in the tower, but there was none. So he rode home, but the song had entered into his heart, and every day he went into the wood and listened to it. Once, as he was standing there under a tree, he saw the witch come up, and listened while she called out,\\n\"O Rapunzel, Rapunzel!\\nLet down your hair.\"\\nThen he saw how Rapunzel let down her long tresses, and how the witch climbed up by it and went in to her, and he said to himself, \"Since that is the ladder I will climb it, and seek my fortune.\" And the next day, as soon as it began to grow dusk, he went to the tower and cried,\\n\"O Rapunzel, Rapunzel!\\nLet down your hair.\"\\nAnd she let down her hair, and the King\\'s son climbed up by it. Rapunzel was greatly terrified when she saw that a man had come in to her, for she had never seen one before; but the King\\'s son began speaking so kindly to her, and told how her singing had entered into his heart, so that he could have no peace until he had seen her herself. Then Rapunzel forgot her terror, and when he asked her to take him for her husband, and she saw that he was young and beautiful, she thought to herself, \"I certainly like him much better than old mother Gothel,\" and she put her hand into his hand.\\nShe said: \"I would willingly go with thee, but I do not know how I shall get out. When thou comest, bring each time a silken rope, and I will make a ladder, and when it is quite ready I will get down by it out of the tower, and thou shalt take me away on thy horse.\" They agreed that he should come to her every evening, as the old woman came in the day-time.\\nSo the witch knew nothing of all this until once Rapunzel said to her unwittingly, \"Mother Gothel, how is it that you climb up here so slowly, and the King\\'s son is with me in a moment?\"\\n\"O wicked child,\" cried the witch, \"what is this I hear! I thought I had hidden thee from all the world, and thou hast betrayed me!\" In her anger she seized Rapunzel by her beautiful hair, struck her several times with her left hand, and then grasping a pair of shears in her right - snip, snap - the beautiful locks lay on the ground. And she was so hard-hearted that she took Rapunzel and put her in a waste and desert place, where she lived in great woe and misery.\\nThe same day on which she took Rapunzel away she went back to the tower in the evening and made fast the severed locks of hair to the window-hasp, and the King\\'s son came and cried,\\n\"Rapunzel, Rapunzel!\\nLet down your hair.\"\\nThen she let the hair down, and the King\\'s son climbed up, but instead of his dearest Rapunzel he found the witch looking at him with wicked glittering eyes.\\n\"Aha!\" cried she, mocking him, \"you came for your darling, but the sweet bird sits no longer in the nest, and sings no more; the cat has got her, and will scratch out your eyes as well! Rapunzel is lost to you; you will see her no more.\" The King\\'s son was beside himself with grief, and in his agony he sprang from the tower: he escaped with life, but the thorns on which he fell put out his eyes. Then he wandered blind through the wood, eating nothing but roots and berries, and doing nothing but lament and weep for the loss of his dearest wife.\\nSo he wandered several years in misery until at last he came to the desert place where Rapunzel lived with her twin-children that she had borne, a boy and a girl. At first he heard a voice that he thought he knew, and when he reached the place from which it seemed to come Rapunzel knew him, and fell on his neck and wept. And when her tears touched his eyes they became clear again, and he could see with them as well as ever. Then he took her to his kingdom, where he was received with great joy, and there they lived long and happily.\\n'"
            ],
            "application/vnd.google.colaboratory.intrinsic+json": {
              "type": "string"
            }
          },
          "metadata": {},
          "execution_count": 126
        }
      ]
    },
    {
      "cell_type": "code",
      "source": [
        "book_sentences = nltk.sent_tokenize(book)"
      ],
      "metadata": {
        "id": "GgTeBdfnSywW"
      },
      "execution_count": 127,
      "outputs": []
    },
    {
      "cell_type": "code",
      "source": [
        "len(book_sentences)"
      ],
      "metadata": {
        "colab": {
          "base_uri": "https://localhost:8080/"
        },
        "id": "OwWEUfCIS1GH",
        "outputId": "14fd6774-45ac-4a2f-a6c8-c460ab30744d"
      },
      "execution_count": 128,
      "outputs": [
        {
          "output_type": "execute_result",
          "data": {
            "text/plain": [
              "55"
            ]
          },
          "metadata": {},
          "execution_count": 128
        }
      ]
    },
    {
      "cell_type": "code",
      "source": [
        "book_sentences[11]"
      ],
      "metadata": {
        "colab": {
          "base_uri": "https://localhost:8080/",
          "height": 36
        },
        "id": "165oE4aAS3qe",
        "outputId": "19edd1c5-5d38-4fcd-a20c-27f6ff48b4ad"
      },
      "execution_count": 129,
      "outputs": [
        {
          "output_type": "execute_result",
          "data": {
            "text/plain": [
              "'it shall be the worse for you!\"'"
            ],
            "application/vnd.google.colaboratory.intrinsic+json": {
              "type": "string"
            }
          },
          "metadata": {},
          "execution_count": 129
        }
      ]
    },
    {
      "cell_type": "markdown",
      "source": [
        "PORTER"
      ],
      "metadata": {
        "id": "BkSqT6HZVDwF"
      }
    },
    {
      "cell_type": "code",
      "source": [
        "ps = nltk.stem.PorterStemmer()"
      ],
      "metadata": {
        "id": "vcwEw4hyS7Rk"
      },
      "execution_count": 130,
      "outputs": []
    },
    {
      "cell_type": "code",
      "source": [
        "for word in nltk.word_tokenize(book_sentences[1]):\n",
        "  print(ps.stem(word))"
      ],
      "metadata": {
        "colab": {
          "base_uri": "https://localhost:8080/"
        },
        "id": "a-zlsCzVTB5O",
        "outputId": "ce5e217c-334e-4996-a9da-f5cf2f8f2837"
      },
      "execution_count": 133,
      "outputs": [
        {
          "output_type": "stream",
          "name": "stdout",
          "text": [
            "now\n",
            "there\n",
            "wa\n",
            "at\n",
            "the\n",
            "back\n",
            "of\n",
            "their\n",
            "hous\n",
            "a\n",
            "littl\n",
            "window\n",
            "which\n",
            "overlook\n",
            "a\n",
            "beauti\n",
            "garden\n",
            "full\n",
            "of\n",
            "the\n",
            "finest\n",
            "veget\n",
            "and\n",
            "flower\n",
            ";\n",
            "but\n",
            "there\n",
            "wa\n",
            "a\n",
            "high\n",
            "wall\n",
            "all\n",
            "round\n",
            "it\n",
            ",\n",
            "and\n",
            "no\n",
            "one\n",
            "ventur\n",
            "into\n",
            "it\n",
            ",\n",
            "for\n",
            "it\n",
            "belong\n",
            "to\n",
            "a\n",
            "witch\n",
            "of\n",
            "great\n",
            "might\n",
            ",\n",
            "and\n",
            "of\n",
            "whom\n",
            "all\n",
            "the\n",
            "world\n",
            "wa\n",
            "afraid\n",
            ".\n"
          ]
        }
      ]
    },
    {
      "cell_type": "markdown",
      "source": [
        "WORDNET"
      ],
      "metadata": {
        "id": "cWaSktjuVKJ-"
      }
    },
    {
      "cell_type": "code",
      "source": [
        "nltk.download('wordnet')\n",
        "wlm = nltk.stem.WordNetLemmatizer()\n",
        "type(wlm)"
      ],
      "metadata": {
        "colab": {
          "base_uri": "https://localhost:8080/"
        },
        "id": "J4lpbNkVTZSd",
        "outputId": "e9026f2a-5f0d-4ddf-d5cb-59fb925c7de9"
      },
      "execution_count": 135,
      "outputs": [
        {
          "output_type": "stream",
          "name": "stdout",
          "text": [
            "[nltk_data] Downloading package wordnet to /root/nltk_data...\n",
            "[nltk_data]   Package wordnet is already up-to-date!\n"
          ]
        },
        {
          "output_type": "execute_result",
          "data": {
            "text/plain": [
              "nltk.stem.wordnet.WordNetLemmatizer"
            ]
          },
          "metadata": {},
          "execution_count": 135
        }
      ]
    },
    {
      "cell_type": "code",
      "source": [
        "book_sentences[2]"
      ],
      "metadata": {
        "colab": {
          "base_uri": "https://localhost:8080/",
          "height": 54
        },
        "id": "eJwCCnKITe7e",
        "outputId": "dafccda0-17c1-41dc-edc7-31dd4942c49f"
      },
      "execution_count": 136,
      "outputs": [
        {
          "output_type": "execute_result",
          "data": {
            "text/plain": [
              "'One day that the wife was standing at the window, and looking into the garden, she saw a bed filled with the finest rampion; and it looked so fresh and green that she began to wish for some; and at length she longed for it greatly.'"
            ],
            "application/vnd.google.colaboratory.intrinsic+json": {
              "type": "string"
            }
          },
          "metadata": {},
          "execution_count": 136
        }
      ]
    },
    {
      "cell_type": "code",
      "source": [
        "wlm.lemmatize('l')"
      ],
      "metadata": {
        "colab": {
          "base_uri": "https://localhost:8080/",
          "height": 36
        },
        "id": "wTv2MIAVTirt",
        "outputId": "6ff949f6-8ce9-4c57-a36b-c1e8b7714a01"
      },
      "execution_count": 139,
      "outputs": [
        {
          "output_type": "execute_result",
          "data": {
            "text/plain": [
              "'l'"
            ],
            "application/vnd.google.colaboratory.intrinsic+json": {
              "type": "string"
            }
          },
          "metadata": {},
          "execution_count": 139
        }
      ]
    },
    {
      "cell_type": "code",
      "source": [
        "stemmer = nltk.stem.SnowballStemmer('english')"
      ],
      "metadata": {
        "id": "GyZlqpPwUFQc"
      },
      "execution_count": 140,
      "outputs": []
    },
    {
      "cell_type": "code",
      "source": [
        "words3 = [stemmer.stem(word) for word in nltk.word_tokenize(book_sentences[2])]"
      ],
      "metadata": {
        "id": "chWkLpUnT9q8"
      },
      "execution_count": 142,
      "outputs": []
    },
    {
      "cell_type": "code",
      "source": [
        "words3"
      ],
      "metadata": {
        "colab": {
          "base_uri": "https://localhost:8080/"
        },
        "id": "itlNaXd0T_Nk",
        "outputId": "a0367692-66c0-4e27-ffd5-822fa9579af3"
      },
      "execution_count": 143,
      "outputs": [
        {
          "output_type": "execute_result",
          "data": {
            "text/plain": [
              "['one',\n",
              " 'day',\n",
              " 'that',\n",
              " 'the',\n",
              " 'wife',\n",
              " 'was',\n",
              " 'stand',\n",
              " 'at',\n",
              " 'the',\n",
              " 'window',\n",
              " ',',\n",
              " 'and',\n",
              " 'look',\n",
              " 'into',\n",
              " 'the',\n",
              " 'garden',\n",
              " ',',\n",
              " 'she',\n",
              " 'saw',\n",
              " 'a',\n",
              " 'bed',\n",
              " 'fill',\n",
              " 'with',\n",
              " 'the',\n",
              " 'finest',\n",
              " 'rampion',\n",
              " ';',\n",
              " 'and',\n",
              " 'it',\n",
              " 'look',\n",
              " 'so',\n",
              " 'fresh',\n",
              " 'and',\n",
              " 'green',\n",
              " 'that',\n",
              " 'she',\n",
              " 'began',\n",
              " 'to',\n",
              " 'wish',\n",
              " 'for',\n",
              " 'some',\n",
              " ';',\n",
              " 'and',\n",
              " 'at',\n",
              " 'length',\n",
              " 'she',\n",
              " 'long',\n",
              " 'for',\n",
              " 'it',\n",
              " 'great',\n",
              " '.']"
            ]
          },
          "metadata": {},
          "execution_count": 143
        }
      ]
    }
  ]
}